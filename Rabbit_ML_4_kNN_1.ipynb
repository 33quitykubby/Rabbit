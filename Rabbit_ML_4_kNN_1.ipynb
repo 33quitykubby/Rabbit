{
  "nbformat": 4,
  "nbformat_minor": 0,
  "metadata": {
    "colab": {
      "name": "Rabbit_ML_4_kNN_1.ipynb",
      "provenance": [],
      "collapsed_sections": [],
      "toc_visible": true,
      "include_colab_link": true
    },
    "kernelspec": {
      "display_name": "Python 3",
      "name": "python3"
    }
  },
  "cells": [
    {
      "cell_type": "markdown",
      "metadata": {
        "id": "view-in-github",
        "colab_type": "text"
      },
      "source": [
        "<a href=\"https://colab.research.google.com/github/33quitykubby/Rabbit/blob/main/Rabbit_ML_4_kNN_1.ipynb\" target=\"_parent\"><img src=\"https://colab.research.google.com/assets/colab-badge.svg\" alt=\"Open In Colab\"/></a>"
      ]
    },
    {
      "cell_type": "markdown",
      "metadata": {
        "id": "ndo0gsKs29oE"
      },
      "source": [
        "# k-Nearest Neighborモデル\n",
        "\n",
        "k近傍法(写経）\n",
        "np_knn.ipynb\n",
        "\n"
      ]
    },
    {
      "cell_type": "markdown",
      "metadata": {
        "id": "GXWcMN9fN5KN"
      },
      "source": [
        "# マウント"
      ]
    },
    {
      "cell_type": "code",
      "metadata": {
        "colab": {
          "base_uri": "https://localhost:8080/"
        },
        "id": "sP58gpOVNjRO",
        "outputId": "11e26963-5a4a-465d-8a86-860fb91603a6"
      },
      "source": [
        "from google.colab import drive\n",
        "drive.mount('/content/drive')"
      ],
      "execution_count": 80,
      "outputs": [
        {
          "output_type": "stream",
          "text": [
            "Drive already mounted at /content/drive; to attempt to forcibly remount, call drive.mount(\"/content/drive\", force_remount=True).\n"
          ],
          "name": "stdout"
        }
      ]
    },
    {
      "cell_type": "markdown",
      "metadata": {
        "id": "aFawz7zCioGw"
      },
      "source": [
        "# 日本時間にする"
      ]
    },
    {
      "cell_type": "code",
      "metadata": {
        "colab": {
          "base_uri": "https://localhost:8080/"
        },
        "id": "Qqk7xVQXilAv",
        "outputId": "f0ecd065-801c-4fa9-aa9b-6bfdc17ac11c"
      },
      "source": [
        "  !rm /etc/localtime\n",
        "  !ln -s /usr/share/zoneinfo/Asia/Tokyo /etc/localtime\n",
        "  !date"
      ],
      "execution_count": 81,
      "outputs": [
        {
          "output_type": "stream",
          "text": [
            "Sat Apr 10 16:10:47 JST 2021\n"
          ],
          "name": "stdout"
        }
      ]
    },
    {
      "cell_type": "markdown",
      "metadata": {
        "id": "0XSgZcpT4tkC"
      },
      "source": [
        "# ライブラリのインポート"
      ]
    },
    {
      "cell_type": "code",
      "metadata": {
        "id": "9hlcGt_j4tkD"
      },
      "source": [
        "import pandas as pd\n",
        "import numpy as np\n",
        "from pandas import DataFrame\n",
        "\n",
        "from sklearn.model_selection import train_test_split\n",
        "from sklearn.preprocessing import  StandardScaler\n",
        "from sklearn.linear_model import LogisticRegressionCV\n",
        "from sklearn.metrics import  confusion_matrix\n",
        "from sklearn.decomposition import PCA\n",
        "from scipy import stats\n",
        "\n",
        "from matplotlib import pyplot as plt\n",
        "import seaborn as sns\n",
        "\n",
        "#これでplt.show()しなくてよい\n",
        "%matplotlib inline\n",
        "\n",
        "import os\n",
        "import glob\n",
        "\n",
        "import librosa\n",
        "\n",
        "import datetime\n",
        "\n",
        "import gc"
      ],
      "execution_count": 82,
      "outputs": []
    },
    {
      "cell_type": "code",
      "metadata": {
        "colab": {
          "base_uri": "https://localhost:8080/"
        },
        "id": "l3Kfi-5YVRYV",
        "outputId": "fd483f12-a73f-4926-8592-416ebde9b874"
      },
      "source": [
        "#開始時刻\n",
        "start_time = datetime.datetime.now(datetime.timezone(datetime.timedelta(hours=9)))\n",
        "print(\"start_time=\",start_time)"
      ],
      "execution_count": 83,
      "outputs": [
        {
          "output_type": "stream",
          "text": [
            "start_time= 2021-04-10 16:10:47.538354+09:00\n"
          ],
          "name": "stdout"
        }
      ]
    },
    {
      "cell_type": "markdown",
      "metadata": {
        "id": "UdzrJm_XYr17"
      },
      "source": [
        "# 乱数シードの初期化\n",
        "\n",
        "\n",
        "\n",
        "\n"
      ]
    },
    {
      "cell_type": "code",
      "metadata": {
        "id": "wNUHyFvYF1_Z"
      },
      "source": [
        "import os \n",
        "import numpy as np\n",
        "from sklearn import model_selection\n",
        "import tensorflow as tf\n",
        "import random\n",
        "\n",
        "COMMON_SEED = 0\n",
        "STANDARD_SEED = 0\n",
        "NP_SEED = 0\n",
        "TF_SEED = 0 \n",
        "\n",
        "# np.random.seed(STANDARD_SEED)\n",
        "# random.seed(NP_SEED)\n",
        "# tf.random.set_seed(TF_SEED)\n",
        "\n",
        "def seed_everything():\n",
        "    random.seed(STANDARD_SEED)\n",
        "    os.environ['PYTHONHASHSEED'] = str(COMMON_SEED)\n",
        "    os.environ['TF_DETERMINISTIC_OPS'] = '1'\n",
        "    os.environ['TF_CUDNN_DETERMINISTIC'] = '1'\n",
        "    np.random.seed(NP_SEED)\n",
        "    tf.random.set_seed(TF_SEED)\n",
        "    session_conf = tf.compat.v1.ConfigProto(\n",
        "        intra_op_parallelism_threads=1,\n",
        "        inter_op_parallelism_threads=1\n",
        "    )\n",
        "    sess = tf.compat.v1.Session(graph=tf.compat.v1.get_default_graph(), config=session_conf)\n",
        "    tf.compat.v1.keras.backend.set_session(sess)\n"
      ],
      "execution_count": 84,
      "outputs": []
    },
    {
      "cell_type": "code",
      "metadata": {
        "id": "9AOmh1f2uhww"
      },
      "source": [
        "#乱数シード固定\n",
        "\n",
        "seed_everything()"
      ],
      "execution_count": 85,
      "outputs": []
    },
    {
      "cell_type": "markdown",
      "metadata": {
        "id": "V3KtRk3Eipe8"
      },
      "source": [
        "# パス定義"
      ]
    },
    {
      "cell_type": "code",
      "metadata": {
        "id": "dq2-SgKJOTVv"
      },
      "source": [
        "DATA_PATH = '/content/drive/MyDrive/RabbitChallenge/study_ai_ml_google/data/'\n",
        "SIZE = 10"
      ],
      "execution_count": 86,
      "outputs": []
    },
    {
      "cell_type": "markdown",
      "metadata": {
        "id": "Rc7i5MjTOQUU"
      },
      "source": [
        "# 訓練データ生成"
      ]
    },
    {
      "cell_type": "code",
      "metadata": {
        "colab": {
          "base_uri": "https://localhost:8080/",
          "height": 283
        },
        "id": "wN-AZvd2NFl1",
        "outputId": "653e3bfd-204c-471b-d63f-1ff0a7267262"
      },
      "source": [
        "x0 = np.random.normal(size=SIZE).reshape(-1, 2) - 1\n",
        "x1 = np.random.normal(size=SIZE).reshape(-1, 2) + 1\n",
        "\n",
        "X_train = np.concatenate([x0,x1])\n",
        "ys_train = np.concatenate([np.zeros(int(SIZE/2)), np.ones(int(SIZE/2))]).astype(np.int)\n",
        "\n",
        "plt.scatter(X_train[:, 0], X_train[:,1], c=ys_train)\n"
      ],
      "execution_count": 87,
      "outputs": [
        {
          "output_type": "execute_result",
          "data": {
            "text/plain": [
              "<matplotlib.collections.PathCollection at 0x7fecaa3a0050>"
            ]
          },
          "metadata": {
            "tags": []
          },
          "execution_count": 87
        },
        {
          "output_type": "display_data",
          "data": {
            "image/png": "[encoded data removed]",
            "text/plain": [
              "<Figure size 432x288 with 1 Axes>"
            ]
          },
          "metadata": {
            "tags": [],
            "needs_background": "light"
          }
        }
      ]
    },
    {
      "cell_type": "markdown",
      "metadata": {
        "id": "0clYEDKCQBo1"
      },
      "source": [
        "# 予測"
      ]
    },
    {
      "cell_type": "markdown",
      "metadata": {
        "id": "lJmuns_2ju4m"
      },
      "source": [
        "## numpy"
      ]
    },
    {
      "cell_type": "code",
      "metadata": {
        "id": "Rq8vVy2XQD8v"
      },
      "source": [
        "def distance(x1, x2):\n",
        "  return np.sum((x1-x2)**2, axis=1) #二乗距離\n",
        "\n",
        "def knc_predict(n_neighbors, X_train, y_train, X_test):\n",
        "  y_pred = np.empty(len(X_test), dtype=y_train.dtype)\n",
        "  for i, x in enumerate(X_test):\n",
        "\n",
        "    #X_testのデータを一つずつ、全X_trainとの距離を比較しdistances配列に入れる\n",
        "    distances = distance(x, X_train)\n",
        "\n",
        "    # argsort()で距離の近い順に並べたインデックスを得る\n",
        "    nearest_index = distances.argsort()[:n_neighbors] \n",
        "\n",
        "    # 上位n_neigbors番目までの要素のy_trainの最頻値を求める\n",
        "    mode, _ = stats.mode(y_train[nearest_index])\n",
        "\n",
        "    # 最頻値をリストに入れる\n",
        "    y_pred[i] = mode\n",
        "  \n",
        "  return y_pred\n",
        "\n",
        "def plt_result(x_train, y_train, y_pred):\n",
        "  xx0, xx1 = np.meshgrid(np.linspace(-5, 5, 100), np.linspace(-5, 5, 100))\n",
        "  xx = np.array([xx0, xx1]).reshape(2,-1).T\n",
        "  plt.scatter(x_train[:,0], x_train[:,1], c=y_train)\n",
        "  plt.contourf(xx0, xx1, y_pred.reshape(100,100).astype(dtype=np.float), alpha=0.2, levels=np.linspace(0,1,3) )"
      ],
      "execution_count": 88,
      "outputs": []
    },
    {
      "cell_type": "code",
      "metadata": {
        "colab": {
          "base_uri": "https://localhost:8080/",
          "height": 265
        },
        "id": "uTApWFJAWi3v",
        "outputId": "1b01bcf1-3180-4eb3-c49b-afc663fb2568"
      },
      "source": [
        "n_neighbors = 3\n",
        "\n",
        "# [-5, 5]を100分割した格子列を生成しX_testとする\n",
        "xx0, xx1 = np.meshgrid(np.linspace(-5, 5, 100), np.linspace(-5, 5, 100)) \n",
        "X_test = np.array([xx0, xx1]).reshape(2,-1).T\n",
        "\n",
        "# print(X_test.shape)\n",
        "# print(X_test)\n",
        "\n",
        "# kNNでX_testを判定\n",
        "y_pred = knc_predict(n_neighbors, X_train, ys_train, X_test)\n",
        "\n",
        "# print(y_pred.shape)\n",
        "# print(y_pred)\n",
        "\n",
        "# グラフ化\n",
        "plt_result(X_train, ys_train, y_pred)"
      ],
      "execution_count": 89,
      "outputs": [
        {
          "output_type": "display_data",
          "data": {
            "image/png": "[encoded data removed]",
            "text/plain": [
              "<Figure size 432x288 with 1 Axes>"
            ]
          },
          "metadata": {
            "tags": [],
            "needs_background": "light"
          }
        }
      ]
    },
    {
      "cell_type": "markdown",
      "metadata": {
        "id": "OP2yBXWhmoR-"
      },
      "source": [
        "## scikitlearn"
      ]
    },
    {
      "cell_type": "code",
      "metadata": {
        "id": "8JHV7gtTmuCd"
      },
      "source": [
        "xx0, xx1 = np.meshgrid(np.linspace(-5, 5, 100), np.linspace(-5, 5, 100)) \n",
        "\n",
        "X_test = np.array([xx0, xx1]).reshape(2,-1).T"
      ],
      "execution_count": 90,
      "outputs": []
    },
    {
      "cell_type": "code",
      "metadata": {
        "colab": {
          "base_uri": "https://localhost:8080/",
          "height": 265
        },
        "id": "TOd2QPFEnDSS",
        "outputId": "ed29b439-583a-4f93-cdd8-2fd8729c4b53"
      },
      "source": [
        "from sklearn.neighbors import KNeighborsClassifier\n",
        "\n",
        "knc = KNeighborsClassifier(n_neighbors=n_neighbors).fit(X_train, ys_train)\n",
        "\n",
        "plt_result(X_train, ys_train, knc.predict(X_test))"
      ],
      "execution_count": 91,
      "outputs": [
        {
          "output_type": "display_data",
          "data": {
            "image/png": "[encoded data removed]",
            "text/plain": [
              "<Figure size 432x288 with 1 Axes>"
            ]
          },
          "metadata": {
            "tags": [],
            "needs_background": "light"
          }
        }
      ]
    },
    {
      "cell_type": "markdown",
      "metadata": {
        "id": "v8AH400idpTk"
      },
      "source": [
        "# 終わり"
      ]
    },
    {
      "cell_type": "code",
      "metadata": {
        "id": "bdBIu4za5umf",
        "colab": {
          "base_uri": "https://localhost:8080/"
        },
        "outputId": "33bc7f04-4f79-4e94-e11b-4d0b6b412413"
      },
      "source": [
        "#終了時刻\n",
        "finish_time = datetime.datetime.now(datetime.timezone(datetime.timedelta(hours=9)))\n",
        "print(\"finish_time=\",finish_time)\n",
        "print(\"total_time=\",finish_time-start_time)\n"
      ],
      "execution_count": 92,
      "outputs": [
        {
          "output_type": "stream",
          "text": [
            "finish_time= 2021-04-10 16:10:49.826782+09:00\n",
            "total_time= 0:00:02.288428\n"
          ],
          "name": "stdout"
        }
      ]
    }
  ]
}